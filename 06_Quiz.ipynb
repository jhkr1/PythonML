{
  "cells": [
    {
      "cell_type": "markdown",
      "metadata": {
        "id": "view-in-github",
        "colab_type": "text"
      },
      "source": [
        "<a href=\"https://colab.research.google.com/github/jhkr1/PythonML/blob/main/06_Quiz.ipynb\" target=\"_parent\"><img src=\"https://colab.research.google.com/assets/colab-badge.svg\" alt=\"Open In Colab\"/></a>"
      ]
    },
    {
      "cell_type": "markdown",
      "id": "1a4f7f01",
      "metadata": {
        "id": "1a4f7f01"
      },
      "source": [
        "# 6. Quiz"
      ]
    },
    {
      "cell_type": "markdown",
      "id": "df3daaec",
      "metadata": {
        "id": "df3daaec"
      },
      "source": [
        "## 어느 결혼식장에서 피로연의 식수 인원을 올바르게 예측하지 못하여 버려지는 음식으로 고민이 많다고 합니다. 현재까지 진행된 결혼식에 대한 결혼식 참석 인원과 그 중에서 식사를 하는 인원의 데이터가 제공될 때, 아래 각 문항에 대한 코드를 작성하시오."
      ]
    },
    {
      "cell_type": "markdown",
      "id": "40f9a0bb",
      "metadata": {
        "id": "40f9a0bb"
      },
      "source": [
        "주의) 사전 작업으로 아래 코드 셀을 먼저 실행하시오"
      ]
    },
    {
      "cell_type": "code",
      "execution_count": 4,
      "id": "ca571038",
      "metadata": {
        "id": "ca571038"
      },
      "outputs": [],
      "source": [
        "import numpy as np\n",
        "import matplotlib.pyplot as plt\n",
        "import pandas as pd"
      ]
    },
    {
      "cell_type": "markdown",
      "id": "91bcd3cd",
      "metadata": {
        "id": "91bcd3cd"
      },
      "source": [
        "## 1) QuizData.csv 파일로부터 데이터를 읽어와서 결혼식 참석 인원(total), 식수 인원(reception)을 각각의 변수로 저장하시오."
      ]
    },
    {
      "cell_type": "code",
      "execution_count": 7,
      "id": "59d4f7b0",
      "metadata": {
        "id": "59d4f7b0"
      },
      "outputs": [],
      "source": [
        "dataset = pd.read_csv(\"/content/drive/MyDrive/PythonMLWokrspace/ScikitLearn/QuizData.csv\")"
      ]
    },
    {
      "cell_type": "code",
      "execution_count": 9,
      "id": "df8c0750",
      "metadata": {
        "id": "df8c0750"
      },
      "outputs": [],
      "source": [
        "dataset.head()\n",
        "X = dataset.iloc[:, :-1].values\n",
        "y = dataset.iloc[:,-1].values"
      ]
    },
    {
      "cell_type": "code",
      "execution_count": 11,
      "id": "ec664659",
      "metadata": {
        "id": "ec664659",
        "outputId": "a85476a8-ebb0-496f-8502-ac1fbe3d7766",
        "colab": {
          "base_uri": "https://localhost:8080/"
        }
      },
      "outputs": [
        {
          "output_type": "execute_result",
          "data": {
            "text/plain": [
              "(array([[118],\n",
              "        [253],\n",
              "        [320],\n",
              "        [ 94],\n",
              "        [155],\n",
              "        [188],\n",
              "        [201],\n",
              "        [338],\n",
              "        [186],\n",
              "        [183],\n",
              "        [223],\n",
              "        [392],\n",
              "        [ 86],\n",
              "        [112],\n",
              "        [129],\n",
              "        [223],\n",
              "        [288],\n",
              "        [262],\n",
              "        [143],\n",
              "        [179]]),\n",
              " array([ 62, 148, 201,  80,  92, 131, 147, 187, 124, 152, 143, 199,  58,\n",
              "         68,  76, 149, 152, 183,  88, 101]))"
            ]
          },
          "metadata": {},
          "execution_count": 11
        }
      ],
      "source": [
        "X, y"
      ]
    },
    {
      "cell_type": "markdown",
      "id": "50d91935",
      "metadata": {
        "id": "50d91935"
      },
      "source": [
        "## 2) 전체 데이터를 훈련 세트와 테스트 세트로 분리하시오. 이 때 비율은 75 : 25 로 합니다.\n",
        "\n",
        "(단, random_state = 0 으로 설정)"
      ]
    },
    {
      "cell_type": "code",
      "execution_count": 12,
      "id": "9baa751b",
      "metadata": {
        "id": "9baa751b"
      },
      "outputs": [],
      "source": [
        "from sklearn.model_selection import train_test_split\n",
        "X_train, X_test, y_train, y_test = train_test_split(X, y, test_size=0.25, random_state=0)"
      ]
    },
    {
      "cell_type": "markdown",
      "id": "6a37e520",
      "metadata": {
        "id": "6a37e520"
      },
      "source": [
        "## 3) 훈련 세트를 이용하여 단순 선형 회귀 (Simple Linear Regression) 모델을 생성하시오."
      ]
    },
    {
      "cell_type": "code",
      "execution_count": 13,
      "id": "6d03771e",
      "metadata": {
        "id": "6d03771e",
        "outputId": "35080392-4148-4cee-cf21-200011fc05fb",
        "colab": {
          "base_uri": "https://localhost:8080/",
          "height": 75
        }
      },
      "outputs": [
        {
          "output_type": "execute_result",
          "data": {
            "text/plain": [
              "LinearRegression()"
            ],
            "text/html": [
              "<style>#sk-container-id-1 {color: black;}#sk-container-id-1 pre{padding: 0;}#sk-container-id-1 div.sk-toggleable {background-color: white;}#sk-container-id-1 label.sk-toggleable__label {cursor: pointer;display: block;width: 100%;margin-bottom: 0;padding: 0.3em;box-sizing: border-box;text-align: center;}#sk-container-id-1 label.sk-toggleable__label-arrow:before {content: \"▸\";float: left;margin-right: 0.25em;color: #696969;}#sk-container-id-1 label.sk-toggleable__label-arrow:hover:before {color: black;}#sk-container-id-1 div.sk-estimator:hover label.sk-toggleable__label-arrow:before {color: black;}#sk-container-id-1 div.sk-toggleable__content {max-height: 0;max-width: 0;overflow: hidden;text-align: left;background-color: #f0f8ff;}#sk-container-id-1 div.sk-toggleable__content pre {margin: 0.2em;color: black;border-radius: 0.25em;background-color: #f0f8ff;}#sk-container-id-1 input.sk-toggleable__control:checked~div.sk-toggleable__content {max-height: 200px;max-width: 100%;overflow: auto;}#sk-container-id-1 input.sk-toggleable__control:checked~label.sk-toggleable__label-arrow:before {content: \"▾\";}#sk-container-id-1 div.sk-estimator input.sk-toggleable__control:checked~label.sk-toggleable__label {background-color: #d4ebff;}#sk-container-id-1 div.sk-label input.sk-toggleable__control:checked~label.sk-toggleable__label {background-color: #d4ebff;}#sk-container-id-1 input.sk-hidden--visually {border: 0;clip: rect(1px 1px 1px 1px);clip: rect(1px, 1px, 1px, 1px);height: 1px;margin: -1px;overflow: hidden;padding: 0;position: absolute;width: 1px;}#sk-container-id-1 div.sk-estimator {font-family: monospace;background-color: #f0f8ff;border: 1px dotted black;border-radius: 0.25em;box-sizing: border-box;margin-bottom: 0.5em;}#sk-container-id-1 div.sk-estimator:hover {background-color: #d4ebff;}#sk-container-id-1 div.sk-parallel-item::after {content: \"\";width: 100%;border-bottom: 1px solid gray;flex-grow: 1;}#sk-container-id-1 div.sk-label:hover label.sk-toggleable__label {background-color: #d4ebff;}#sk-container-id-1 div.sk-serial::before {content: \"\";position: absolute;border-left: 1px solid gray;box-sizing: border-box;top: 0;bottom: 0;left: 50%;z-index: 0;}#sk-container-id-1 div.sk-serial {display: flex;flex-direction: column;align-items: center;background-color: white;padding-right: 0.2em;padding-left: 0.2em;position: relative;}#sk-container-id-1 div.sk-item {position: relative;z-index: 1;}#sk-container-id-1 div.sk-parallel {display: flex;align-items: stretch;justify-content: center;background-color: white;position: relative;}#sk-container-id-1 div.sk-item::before, #sk-container-id-1 div.sk-parallel-item::before {content: \"\";position: absolute;border-left: 1px solid gray;box-sizing: border-box;top: 0;bottom: 0;left: 50%;z-index: -1;}#sk-container-id-1 div.sk-parallel-item {display: flex;flex-direction: column;z-index: 1;position: relative;background-color: white;}#sk-container-id-1 div.sk-parallel-item:first-child::after {align-self: flex-end;width: 50%;}#sk-container-id-1 div.sk-parallel-item:last-child::after {align-self: flex-start;width: 50%;}#sk-container-id-1 div.sk-parallel-item:only-child::after {width: 0;}#sk-container-id-1 div.sk-dashed-wrapped {border: 1px dashed gray;margin: 0 0.4em 0.5em 0.4em;box-sizing: border-box;padding-bottom: 0.4em;background-color: white;}#sk-container-id-1 div.sk-label label {font-family: monospace;font-weight: bold;display: inline-block;line-height: 1.2em;}#sk-container-id-1 div.sk-label-container {text-align: center;}#sk-container-id-1 div.sk-container {/* jupyter's `normalize.less` sets `[hidden] { display: none; }` but bootstrap.min.css set `[hidden] { display: none !important; }` so we also need the `!important` here to be able to override the default hidden behavior on the sphinx rendered scikit-learn.org. See: https://github.com/scikit-learn/scikit-learn/issues/21755 */display: inline-block !important;position: relative;}#sk-container-id-1 div.sk-text-repr-fallback {display: none;}</style><div id=\"sk-container-id-1\" class=\"sk-top-container\"><div class=\"sk-text-repr-fallback\"><pre>LinearRegression()</pre><b>In a Jupyter environment, please rerun this cell to show the HTML representation or trust the notebook. <br />On GitHub, the HTML representation is unable to render, please try loading this page with nbviewer.org.</b></div><div class=\"sk-container\" hidden><div class=\"sk-item\"><div class=\"sk-estimator sk-toggleable\"><input class=\"sk-toggleable__control sk-hidden--visually\" id=\"sk-estimator-id-1\" type=\"checkbox\" checked><label for=\"sk-estimator-id-1\" class=\"sk-toggleable__label sk-toggleable__label-arrow\">LinearRegression</label><div class=\"sk-toggleable__content\"><pre>LinearRegression()</pre></div></div></div></div></div>"
            ]
          },
          "metadata": {},
          "execution_count": 13
        }
      ],
      "source": [
        "from sklearn.linear_model import LinearRegression\n",
        "reg = LinearRegression()\n",
        "reg.fit(X_train, y_train)"
      ]
    },
    {
      "cell_type": "markdown",
      "id": "d8cf54dd",
      "metadata": {
        "id": "d8cf54dd"
      },
      "source": [
        "## 4) 데이터 시각화 (훈련 세트) 코드를 작성하시오."
      ]
    },
    {
      "cell_type": "code",
      "execution_count": 25,
      "id": "8be1486e",
      "metadata": {
        "id": "8be1486e",
        "outputId": "6794061b-418d-485a-b416-03887a25f288",
        "colab": {
          "base_uri": "https://localhost:8080/",
          "height": 472
        }
      },
      "outputs": [
        {
          "output_type": "display_data",
          "data": {
            "text/plain": [
              "<Figure size 640x480 with 1 Axes>"
            ],
            "image/png": "[encoded data removed]"
          },
          "metadata": {}
        }
      ],
      "source": [
        "plt.scatter(X_train, y_train, color = 'blue')\n",
        "plt.plot(X_train, reg.predict(X_train), color='green')\n",
        "plt.title('Wedding reception(train)')\n",
        "plt.xlabel('total')\n",
        "plt.ylabel('reception')\n",
        "plt.show()"
      ]
    },
    {
      "cell_type": "markdown",
      "id": "ecb19f49",
      "metadata": {
        "id": "ecb19f49"
      },
      "source": [
        "## 5) 데이터 시각화 (테스트 세트) 코드를 작성하시오."
      ]
    },
    {
      "cell_type": "code",
      "execution_count": 24,
      "id": "53f293a0",
      "metadata": {
        "scrolled": true,
        "id": "53f293a0",
        "outputId": "1fb753a1-1186-42d9-ae42-31adca98c523",
        "colab": {
          "base_uri": "https://localhost:8080/",
          "height": 472
        }
      },
      "outputs": [
        {
          "output_type": "display_data",
          "data": {
            "text/plain": [
              "<Figure size 640x480 with 1 Axes>"
            ],
            "image/png": "[encoded data removed]"
          },
          "metadata": {}
        }
      ],
      "source": [
        "plt.scatter(X_test, y_test, color = 'blue')\n",
        "plt.plot(X_train, reg.predict(X_train), color='green')\n",
        "# 훈련 데이터(X_train)를 사용하여 학습된 선형 회귀 모델의 예측 결과를 초록색 선으로 표시합니다.\n",
        "# 이 선은 훈련 데이터에 맞춘 회귀 직선을 나타내며, 데이터의 경향성을 보여줍니다.\n",
        "# 테스트 데이터를 시각화할 때 훈련 데이터에 대한 회귀 직선을 함께 표시하는 이유는\n",
        "# 모델이 훈련 데이터에서 학습한 경향성이 테스트 데이터에 얼마나 잘 적용되는지(일반화되는지)를 확인하기 위함입니다.\n",
        "plt.title('Wedding reception(test)')\n",
        "plt.xlabel('total')\n",
        "plt.ylabel('reception')\n",
        "plt.show()"
      ]
    },
    {
      "cell_type": "markdown",
      "id": "f04a00f9",
      "metadata": {
        "id": "f04a00f9"
      },
      "source": [
        "## 6) 훈련 세트, 테스트 세트에 대해 각각 모델 평가 점수를 구하시오."
      ]
    },
    {
      "cell_type": "code",
      "execution_count": 19,
      "id": "439d0ce7",
      "metadata": {
        "id": "439d0ce7",
        "outputId": "f8267099-6599-40e5-c16a-f7cc593a714b",
        "colab": {
          "base_uri": "https://localhost:8080/"
        }
      },
      "outputs": [
        {
          "output_type": "execute_result",
          "data": {
            "text/plain": [
              "0.8707088403321211"
            ]
          },
          "metadata": {},
          "execution_count": 19
        }
      ],
      "source": [
        "reg.score(X_train, y_train)"
      ]
    },
    {
      "cell_type": "code",
      "execution_count": 20,
      "id": "951830c2",
      "metadata": {
        "id": "951830c2",
        "outputId": "5ea33328-c68f-44a4-ce20-13f997c6c416",
        "colab": {
          "base_uri": "https://localhost:8080/"
        }
      },
      "outputs": [
        {
          "output_type": "execute_result",
          "data": {
            "text/plain": [
              "0.8634953212566615"
            ]
          },
          "metadata": {},
          "execution_count": 20
        }
      ],
      "source": [
        "reg.score(X_test, y_test)"
      ]
    },
    {
      "cell_type": "markdown",
      "id": "ce329367",
      "metadata": {
        "id": "ce329367"
      },
      "source": [
        "## 7) 결혼식 참석 인원이 300명일 때 예상되는 식수 인원을 구하시오."
      ]
    },
    {
      "cell_type": "code",
      "execution_count": 21,
      "id": "4b9b1f54",
      "metadata": {
        "scrolled": true,
        "id": "4b9b1f54",
        "outputId": "c9118feb-a69e-4ab8-f511-c811fa0e4cd8",
        "colab": {
          "base_uri": "https://localhost:8080/"
        }
      },
      "outputs": [
        {
          "output_type": "execute_result",
          "data": {
            "text/plain": [
              "array([176.92793218])"
            ]
          },
          "metadata": {},
          "execution_count": 21
        }
      ],
      "source": [
        "reg.predict([[300]])"
      ]
    }
  ],
  "metadata": {
    "kernelspec": {
      "display_name": "Python 3",
      "language": "python",
      "name": "python3"
    },
    "language_info": {
      "codemirror_mode": {
        "name": "ipython",
        "version": 3
      },
      "file_extension": ".py",
      "mimetype": "text/x-python",
      "name": "python",
      "nbconvert_exporter": "python",
      "pygments_lexer": "ipython3",
      "version": "3.8.8"
    },
    "colab": {
      "provenance": [],
      "include_colab_link": true
    }
  },
  "nbformat": 4,
  "nbformat_minor": 5
}